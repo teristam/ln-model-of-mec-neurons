{
 "cells": [
  {
   "cell_type": "code",
   "execution_count": 110,
   "metadata": {},
   "outputs": [],
   "source": [
    "import OpenEphys"
   ]
  },
  {
   "cell_type": "code",
   "execution_count": 111,
   "metadata": {},
   "outputs": [
    {
     "name": "stdout",
     "output_type": "stream",
     "text": [
      "Loading continuous data...\n",
      "Loading continuous data...\n",
      "Loading continuous data...\n",
      "Loading continuous data...\n",
      "Loading continuous data...\n",
      "Loading continuous data...\n",
      "Loading continuous data...\n",
      "Loading continuous data...\n",
      "6.36 s ± 288 ms per loop (mean ± std. dev. of 7 runs, 1 loop each)\n"
     ]
    }
   ],
   "source": [
    "%timeit OpenEphys.loadContinuous('test/100_ADC2.continuous')"
   ]
  },
  {
   "cell_type": "code",
   "execution_count": 112,
   "metadata": {},
   "outputs": [
    {
     "name": "stdout",
     "output_type": "stream",
     "text": [
      "Loading continuous data...\n",
      "Loading continuous data...\n",
      "Loading continuous data...\n",
      "Loading continuous data...\n",
      "Loading continuous data...\n",
      "Loading continuous data...\n",
      "Loading continuous data...\n",
      "Loading continuous data...\n",
      "771 ms ± 8.71 ms per loop (mean ± std. dev. of 7 runs, 1 loop each)\n"
     ]
    }
   ],
   "source": [
    "%timeit OpenEphys.loadContinuousFast('test/100_ADC2.continuous')"
   ]
  },
  {
   "cell_type": "code",
   "execution_count": 30,
   "metadata": {},
   "outputs": [
    {
     "name": "stdout",
     "output_type": "stream",
     "text": [
      "114 ms ± 3.6 ms per loop (mean ± std. dev. of 7 runs, 10 loops each)\n"
     ]
    }
   ],
   "source": [
    "%timeit f=open('test/100_ADC2.continuous','rb'); f.read()"
   ]
  },
  {
   "cell_type": "code",
   "execution_count": 105,
   "metadata": {},
   "outputs": [
    {
     "name": "stdout",
     "output_type": "stream",
     "text": [
      "Loading continuous data...\n",
      "Loading continuous data...\n",
      "True\n",
      "True\n",
      "True\n",
      "True\n"
     ]
    }
   ],
   "source": [
    "from OpenEphys import *\n",
    "\n",
    "def loadContinuousFast2(filepath, dtype = float):\n",
    "\n",
    "    assert dtype in (float, np.int16), \\\n",
    "        'Invalid data type specified for loadContinous, valid types are float and np.int16'\n",
    "\n",
    "    print(\"Loading continuous data...\")\n",
    "\n",
    "    ch = { }\n",
    "\n",
    "    #read in the data\n",
    "    f = open(filepath,'rb')\n",
    "\n",
    "    fileLength = os.fstat(f.fileno()).st_size\n",
    "\n",
    "    # calculate number of samples\n",
    "    recordBytes = fileLength - NUM_HEADER_BYTES\n",
    "    if  recordBytes % RECORD_SIZE != 0:\n",
    "        raise Exception(\"File size is not consistent with a continuous file: may be corrupt\")\n",
    "    nrec = recordBytes // RECORD_SIZE\n",
    "    nsamp = nrec * SAMPLES_PER_RECORD\n",
    "    # pre-allocate samples\n",
    "    samples = np.zeros(nsamp, dtype)\n",
    "    timestamps = np.zeros(nrec)\n",
    "    recordingNumbers = np.zeros(nrec)\n",
    "    indices = np.arange(0, nsamp + 1, SAMPLES_PER_RECORD, np.dtype(np.int64))\n",
    "\n",
    "    header = readHeader(f)\n",
    "\n",
    "    buffer = f.read()\n",
    "    data_tmp=np.frombuffer(buffer,np.dtype('>i2')) #read everything into a large buffer\n",
    "    data_tmp = data_tmp.reshape(int(len(b3)/(RECORD_SIZE/2)),int(RECORD_SIZE/2)) #reshape it into each chunk\n",
    "    \n",
    "    timestamps = data_tmp[:,:4].ravel().view('<i8') #reinterpret the timestamp\n",
    "    N = data_tmp[:,4].ravel().view('<u2') #reinterpret number of recording\n",
    "    recordingNumbers = data_tmp[:,5].ravel().view('>u2') #reintepret the recording number\n",
    "    \n",
    "    if np.any(N!=SAMPLES_PER_RECORD):\n",
    "        raise Exception('Found corrupted record at '+np.where(N!=SAMPLES_PER_RECORD))\n",
    "        \n",
    "    if dtype == float: # Convert data to float array and convert bits to voltage.\n",
    "        samples=data_tmp[:,6:6+SAMPLES_PER_RECORD].ravel() * float(header['bitVolts']) # #extract the data\n",
    "    else:  # Keep data in signed 16 bit integer format.\n",
    "        samples=data_tmp[:,6:6+SAMPLES_PER_RECORD].ravel()    \n",
    "     \n",
    "\n",
    "    ch['header'] = header\n",
    "    ch['timestamps'] = timestamps\n",
    "    ch['data'] = samples  # OR use downsample(samples,1), to save space\n",
    "    ch['recordingNumber'] = recordingNumbers\n",
    "    f.close()\n",
    "    return ch\n",
    "\n",
    "d=loadContinuousFast('test/100_ADC2.continuous')\n",
    "d2 = loadContinuous('test/100_ADC2.continuous')\n",
    "\n",
    "print(np.all(d['data']==d2['data']))\n",
    "print(np.all(d['header']==d2['header']))\n",
    "print(np.all(d['recordingNumber']==d2['recordingNumber']))\n",
    "print(np.all(d['timestamps']==d2['timestamps']))\n"
   ]
  },
  {
   "cell_type": "code",
   "execution_count": 109,
   "metadata": {},
   "outputs": [
    {
     "name": "stdout",
     "output_type": "stream",
     "text": [
      "Loading continuous data...\n",
      "Loading continuous data...\n",
      "True\n",
      "True\n",
      "True\n",
      "True\n"
     ]
    }
   ],
   "source": [
    "d=OpenEphys.loadContinuousFast('test/100_ADC2.continuous')\n",
    "d2 = OpenEphys.loadContinuous('test/100_ADC2.continuous')\n",
    "\n",
    "print(np.all(d['data']==d2['data']))\n",
    "print(np.all(d['header']==d2['header']))\n",
    "print(np.all(d['recordingNumber']==d2['recordingNumber']))\n",
    "print(np.all(d['timestamps']==d2['timestamps']))"
   ]
  },
  {
   "cell_type": "code",
   "execution_count": null,
   "metadata": {},
   "outputs": [],
   "source": []
  },
  {
   "cell_type": "code",
   "execution_count": 32,
   "metadata": {},
   "outputs": [],
   "source": [
    "f=open('test/100_ADC2.continuous','rb'); \n",
    "b=f.read()"
   ]
  },
  {
   "cell_type": "code",
   "execution_count": 36,
   "metadata": {},
   "outputs": [],
   "source": [
    "NUM_HEADER_BYTES = 1024\n",
    "SAMPLES_PER_RECORD = 1024\n",
    "BYTES_PER_SAMPLE = 2\n",
    "RECORD_SIZE = 4 + 8 + SAMPLES_PER_RECORD * BYTES_PER_SAMPLE + 10 # size of each continuous record in bytes\n",
    "#8 bytes timestamp, 2 bytes number of sample, 2 bytes recording number, "
   ]
  },
  {
   "cell_type": "code",
   "execution_count": 40,
   "metadata": {},
   "outputs": [
    {
     "data": {
      "text/plain": [
       "93281.0"
      ]
     },
     "execution_count": 40,
     "metadata": {},
     "output_type": "execute_result"
    }
   ],
   "source": [
    "b2=b[1024:]\n",
    "(len(b2))/(2070)"
   ]
  },
  {
   "cell_type": "code",
   "execution_count": 41,
   "metadata": {},
   "outputs": [],
   "source": [
    "b3=np.frombuffer(b2,np.dtype('>i2'))"
   ]
  },
  {
   "cell_type": "code",
   "execution_count": 76,
   "metadata": {},
   "outputs": [],
   "source": [
    "b4=b3.reshape(int(len(b3)/(RECORD_SIZE/2)),int(RECORD_SIZE/2))\n",
    "b5=b4[5:SAMPLES_PER_RECORD,:]"
   ]
  },
  {
   "cell_type": "code",
   "execution_count": 79,
   "metadata": {},
   "outputs": [
    {
     "data": {
      "text/plain": [
       "array([1024, 1024, 1024, ..., 1024, 1024, 1024], dtype=uint16)"
      ]
     },
     "execution_count": 79,
     "metadata": {},
     "output_type": "execute_result"
    }
   ],
   "source": [
    "b4[:,4].view('<u2')"
   ]
  },
  {
   "cell_type": "code",
   "execution_count": null,
   "metadata": {},
   "outputs": [],
   "source": []
  }
 ],
 "metadata": {
  "kernelspec": {
   "display_name": "Python 3",
   "language": "python",
   "name": "python3"
  },
  "language_info": {
   "codemirror_mode": {
    "name": "ipython",
    "version": 3
   },
   "file_extension": ".py",
   "mimetype": "text/x-python",
   "name": "python",
   "nbconvert_exporter": "python",
   "pygments_lexer": "ipython3",
   "version": "3.7.3"
  }
 },
 "nbformat": 4,
 "nbformat_minor": 2
}
